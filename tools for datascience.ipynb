{
 "cells": [
  {
   "cell_type": "markdown",
   "metadata": {},
   "source": [
    "# My Jupyter Notebook on IBM Watson Studio\n",
    "\n",
    "## Romeo Kienzlr \n",
    "100% Human\n"
   ]
  },
  {
   "cell_type": "markdown",
   "metadata": {},
   "source": [
    "<i> I am interested in data science because i know to gain insights from data</i>\n"
   ]
  },
  {
   "cell_type": "markdown",
   "metadata": {},
   "source": [
    "## The following code tests the Gauss formula"
   ]
  },
  {
   "cell_type": "code",
   "execution_count": 1,
   "metadata": {},
   "outputs": [
    {
     "data": {
      "text/plain": [
       "True"
      ]
     },
     "execution_count": 1,
     "metadata": {},
     "output_type": "execute_result"
    }
   ],
   "source": [
    "def guass(n):\n",
    "    return (n*(n+1))/2\n",
    "guass(100) == sum(range(101))"
   ]
  },
  {
   "cell_type": "markdown",
   "metadata": {},
   "source": [
    "<ul>\n",
    "    <li>one</li>\n",
    "    <li>two</li>\n",
    "    <li>three</li>\n",
    "    <li>one</li>\n",
    "    <li>two</li>\n",
    "    <li>three</li>\n",
    "    </ul>"
   ]
  },
  {
   "cell_type": "markdown",
   "metadata": {},
   "source": [
    "<table>\n",
    "\t<tr>\n",
    "\t\t<th>Markdown</th>\n",
    "\t\t<th>Less</th>\n",
    "\t\t<th>Pretty</th>\n",
    "\t</tr>\n",
    "\t<tr>\n",
    "\t\t<td>Still</td>\n",
    "\t\t<td>renders</td>\n",
    "\t\t<th>nicely</th>\n",
    "\t</tr>\n",
    "\t\t<tr>\n",
    "\t\t<td>1</td>\n",
    "\t\t<th>2</th>\n",
    "\t\t<th>3</th>\n",
    "\t</tr>\n",
    "</table>"
   ]
  }
 ],
 "metadata": {
  "kernelspec": {
   "display_name": "Python 3",
   "language": "python",
   "name": "python3"
  },
  "language_info": {
   "codemirror_mode": {
    "name": "ipython",
    "version": 3
   },
   "file_extension": ".py",
   "mimetype": "text/x-python",
   "name": "python",
   "nbconvert_exporter": "python",
   "pygments_lexer": "ipython3",
   "version": "3.8.3"
  }
 },
 "nbformat": 4,
 "nbformat_minor": 4
}
